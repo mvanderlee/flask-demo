{
 "cells": [
  {
   "cell_type": "code",
   "execution_count": 17,
   "metadata": {},
   "outputs": [],
   "source": [
    "default_factory = list\n",
    "\n",
    "\n",
    "def fn(val = None):\n",
    "  if val is None:\n",
    "    val = default_factory()\n",
    "\n",
    "  val.append('a')\n",
    "  return val"
   ]
  },
  {
   "cell_type": "code",
   "execution_count": 20,
   "metadata": {},
   "outputs": [
    {
     "data": {
      "text/plain": [
       "['a']"
      ]
     },
     "execution_count": 20,
     "metadata": {},
     "output_type": "execute_result"
    }
   ],
   "source": [
    "fn()"
   ]
  },
  {
   "cell_type": "code",
   "execution_count": 24,
   "metadata": {},
   "outputs": [],
   "source": [
    "from dataclasses import field, MISSING\n",
    "from typing import Any, Dict, Callable\n",
    "\n",
    "import marshmallow as ma\n",
    "import marshmallow.fields as mf\n",
    "from flask import Flask\n",
    "from flask.views import MethodView\n",
    "from flask_smorest import Api, Blueprint\n",
    "from marshmallow.validate import Range\n",
    "\n",
    "from marshmallow_dataclass import dataclass as ma_dataclass\n"
   ]
  },
  {
   "cell_type": "code",
   "execution_count": null,
   "metadata": {},
   "outputs": [],
   "source": [
    "def required_field(\n",
    "    default: Any = None,\n",
    "    default_factory: Callable = MISSING,\n",
    "    dump_only: bool = False,\n",
    "    load_only: bool = False,\n",
    "    help: str = None,\n",
    "    filterable: bool = True,\n",
    "    # Marshmallow Schema metadata\n",
    "    metadata: Dict[str, Any] = None,\n",
    "    # Marshmallow Schema kwargs\n",
    "    **schema_kwargs,\n",
    "):\n",
    "    if default_factory != MISSING and default is None:\n",
    "        default = MISSING\n",
    "\n",
    "    return field(\n",
    "        default=default,\n",
    "        default_factory=default_factory,\n",
    "        metadata=dict(\n",
    "            **{} if schema_kwargs is None else schema_kwargs,\n",
    "            required=True,\n",
    "            dump_only=dump_only,\n",
    "            load_only=load_only,\n",
    "            metadata=dict(\n",
    "                **{} if metadata is None else metadata,\n",
    "                help=help,\n",
    "                filterable=filterable,\n",
    "            ),\n",
    "        ),\n",
    "    )\n"
   ]
  },
  {
   "cell_type": "code",
   "execution_count": null,
   "metadata": {},
   "outputs": [],
   "source": [
    "class QueryParamsSchema(ma.Schema):\n",
    "    age = mf.Integer(required=True, validate=Range(min=18))\n",
    "\n",
    "    @ma.post_load\n",
    "    def make_object(self, data: Dict[str, Any], **kwargs):\n",
    "        return QueryParams(**data)\n",
    "\n",
    "\n",
    "# Native python, allows us to use dot-notation\n",
    "class QueryParams:\n",
    "    def __init__(self, age: int):\n",
    "        self.age = age"
   ]
  },
  {
   "cell_type": "code",
   "execution_count": 21,
   "metadata": {},
   "outputs": [],
   "source": [
    "@ma_dataclass\n",
    "class QueryParams:\n",
    "    age: int = required_field(validate=Range(min=18))\n"
   ]
  },
  {
   "cell_type": "code",
   "execution_count": 23,
   "metadata": {},
   "outputs": [
    {
     "data": {
      "text/plain": [
       "QueryParams(age=23)"
      ]
     },
     "execution_count": 23,
     "metadata": {},
     "output_type": "execute_result"
    }
   ],
   "source": [
    "QueryParams.Schema().load({'age': '23'})"
   ]
  }
 ],
 "metadata": {
  "kernelspec": {
   "display_name": ".venv",
   "language": "python",
   "name": "python3"
  },
  "language_info": {
   "codemirror_mode": {
    "name": "ipython",
    "version": 3
   },
   "file_extension": ".py",
   "mimetype": "text/x-python",
   "name": "python",
   "nbconvert_exporter": "python",
   "pygments_lexer": "ipython3",
   "version": "3.11.1"
  },
  "orig_nbformat": 4,
  "vscode": {
   "interpreter": {
    "hash": "4042b78f6895231d0067db8678c00233fba015bd2290b7454c9819f449e12fd9"
   }
  }
 },
 "nbformat": 4,
 "nbformat_minor": 2
}
